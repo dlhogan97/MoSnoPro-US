{
 "cells": [
  {
   "cell_type": "code",
   "execution_count": 3,
   "metadata": {},
   "outputs": [
    {
     "ename": "ImportError",
     "evalue": "attempted relative import with no known parent package",
     "output_type": "error",
     "traceback": [
      "\u001b[0;31m---------------------------------------------------------------------------\u001b[0m",
      "\u001b[0;31mImportError\u001b[0m                               Traceback (most recent call last)",
      "Cell \u001b[0;32mIn[3], line 4\u001b[0m\n\u001b[1;32m      2\u001b[0m \u001b[38;5;28;01mimport\u001b[39;00m \u001b[38;5;21;01mdropbox\u001b[39;00m\n\u001b[1;32m      3\u001b[0m \u001b[38;5;28;01mimport\u001b[39;00m \u001b[38;5;21;01mos\u001b[39;00m\n\u001b[0;32m----> 4\u001b[0m \u001b[38;5;28;01mfrom\u001b[39;00m \u001b[38;5;21;01m.\u001b[39;00m\u001b[38;5;21;01m.\u001b[39;00m\u001b[38;5;21;01msrc\u001b[39;00m\u001b[38;5;21;01m.\u001b[39;00m\u001b[38;5;21;01mmosnopro_us\u001b[39;00m \u001b[38;5;28;01mimport\u001b[39;00m data_manager\n\u001b[1;32m      5\u001b[0m \u001b[38;5;28;01mimport\u001b[39;00m \u001b[38;5;21;01mxarray\u001b[39;00m \u001b[38;5;28;01mas\u001b[39;00m \u001b[38;5;21;01mxr\u001b[39;00m\n",
      "\u001b[0;31mImportError\u001b[0m: attempted relative import with no known parent package"
     ]
    }
   ],
   "source": [
    "import streamlit as st\n",
    "import dropbox\n",
    "import os\n",
    "from ..src.mosnopro_us import data_manager\n",
    "import xarray as xr"
   ]
  },
  {
   "cell_type": "code",
   "execution_count": 24,
   "metadata": {},
   "outputs": [],
   "source": [
    "def test_db_connection():\n",
    "    site = \"Paradise\"\n",
    "    db_file = f\"/Apps/push-and-pull-pysumma/output/_{site}_timestep.nc\"  # Path to the xarray file in Dropbox\n",
    "    # Test if the returned value from this function is an xarray dataset\n",
    "    try:\n",
    "        assert isinstance(data_manager.load_xarray_file_from_dropbox(dropbox_file_path=db_file),\n",
    "                                                          xr.Dataset)\n",
    "        print(\"Test passed!\")\n",
    "    except:\n",
    "        TypeError(\"Data was not loaded correctly.\")"
   ]
  },
  {
   "cell_type": "code",
   "execution_count": 29,
   "metadata": {},
   "outputs": [
    {
     "ename": "RuntimeError",
     "evalue": "Failed to read file from Dropbox: name 'APP_KEY' is not defined",
     "output_type": "error",
     "traceback": [
      "\u001b[0;31m---------------------------------------------------------------------------\u001b[0m",
      "\u001b[0;31mNameError\u001b[0m                                 Traceback (most recent call last)",
      "File \u001b[0;32m~/courses/cse583/MoSnoPro-US/src/mosnopro_us/data_manager.py:49\u001b[0m, in \u001b[0;36mload_xarray_file_from_dropbox\u001b[0;34m(dropbox_file_path)\u001b[0m\n\u001b[1;32m     47\u001b[0m \u001b[38;5;28;01mtry\u001b[39;00m:\n\u001b[1;32m     48\u001b[0m     \u001b[38;5;66;03m# Initialize Dropbox client\u001b[39;00m\n\u001b[0;32m---> 49\u001b[0m     dbx \u001b[38;5;241m=\u001b[39m dropbox\u001b[38;5;241m.\u001b[39mDropbox(app_key\u001b[38;5;241m=\u001b[39m\u001b[43mAPP_KEY\u001b[49m,\n\u001b[1;32m     50\u001b[0m                           app_secret\u001b[38;5;241m=\u001b[39mAPP_SECRET,\n\u001b[1;32m     51\u001b[0m                           oauth2_refresh_token\u001b[38;5;241m=\u001b[39maccess_token)\n\u001b[1;32m     53\u001b[0m     \u001b[38;5;66;03m# Download the file content into memory\u001b[39;00m\n",
      "\u001b[0;31mNameError\u001b[0m: name 'APP_KEY' is not defined",
      "\nDuring handling of the above exception, another exception occurred:\n",
      "\u001b[0;31mRuntimeError\u001b[0m                              Traceback (most recent call last)",
      "Cell \u001b[0;32mIn[29], line 5\u001b[0m\n\u001b[1;32m      3\u001b[0m db_file \u001b[38;5;241m=\u001b[39m \u001b[38;5;124mf\u001b[39m\u001b[38;5;124m\"\u001b[39m\u001b[38;5;124m/Apps/push-and-pull-pysumma/output/_\u001b[39m\u001b[38;5;132;01m{\u001b[39;00msite\u001b[38;5;132;01m}\u001b[39;00m\u001b[38;5;124m_timestep.nc\u001b[39m\u001b[38;5;124m\"\u001b[39m  \u001b[38;5;66;03m# Path to the xarray file in Dropbox\u001b[39;00m\n\u001b[1;32m      4\u001b[0m \u001b[38;5;66;03m# Test if the returned value from this function is an xarray dataset\u001b[39;00m\n\u001b[0;32m----> 5\u001b[0m ds \u001b[38;5;241m=\u001b[39m \u001b[43mdata_manager\u001b[49m\u001b[38;5;241;43m.\u001b[39;49m\u001b[43mload_xarray_file_from_dropbox\u001b[49m\u001b[43m(\u001b[49m\u001b[43mdropbox_file_path\u001b[49m\u001b[38;5;241;43m=\u001b[39;49m\u001b[43mdb_file\u001b[49m\u001b[43m)\u001b[49m\n",
      "File \u001b[0;32m~/courses/cse583/MoSnoPro-US/src/mosnopro_us/data_manager.py:61\u001b[0m, in \u001b[0;36mload_xarray_file_from_dropbox\u001b[0;34m(dropbox_file_path)\u001b[0m\n\u001b[1;32m     59\u001b[0m     \u001b[38;5;28;01mreturn\u001b[39;00m dataset\n\u001b[1;32m     60\u001b[0m \u001b[38;5;28;01mexcept\u001b[39;00m \u001b[38;5;167;01mException\u001b[39;00m \u001b[38;5;28;01mas\u001b[39;00m e:\n\u001b[0;32m---> 61\u001b[0m     \u001b[38;5;28;01mraise\u001b[39;00m \u001b[38;5;167;01mRuntimeError\u001b[39;00m(\u001b[38;5;124mf\u001b[39m\u001b[38;5;124m\"\u001b[39m\u001b[38;5;124mFailed to read file from Dropbox: \u001b[39m\u001b[38;5;132;01m{\u001b[39;00me\u001b[38;5;132;01m}\u001b[39;00m\u001b[38;5;124m\"\u001b[39m)\n",
      "\u001b[0;31mRuntimeError\u001b[0m: Failed to read file from Dropbox: name 'APP_KEY' is not defined"
     ]
    }
   ],
   "source": [
    "site = \"Paradise\"\n",
    "\n",
    "db_file = f\"/Apps/push-and-pull-pysumma/output/_{site}_timestep.nc\"  # Path to the xarray file in Dropbox\n",
    "# Test if the returned value from this function is an xarray dataset\n",
    "ds = data_manager.load_xarray_file_from_dropbox(dropbox_file_path=db_file)"
   ]
  },
  {
   "cell_type": "code",
   "execution_count": null,
   "metadata": {},
   "outputs": [],
   "source": []
  }
 ],
 "metadata": {
  "kernelspec": {
   "display_name": "project_env",
   "language": "python",
   "name": "python3"
  },
  "language_info": {
   "codemirror_mode": {
    "name": "ipython",
    "version": 3
   },
   "file_extension": ".py",
   "mimetype": "text/x-python",
   "name": "python",
   "nbconvert_exporter": "python",
   "pygments_lexer": "ipython3",
   "version": "3.10.0"
  }
 },
 "nbformat": 4,
 "nbformat_minor": 2
}
